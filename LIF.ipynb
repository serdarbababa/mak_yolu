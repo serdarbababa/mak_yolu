{
 "cells": [
  {
   "cell_type": "code",
   "execution_count": 1,
   "metadata": {},
   "outputs": [],
   "source": [
    "import numpy as np\n",
    "\n",
    "\"\"\"\n",
    "Basic neuron model with shared instantiation\n",
    "\"\"\"\n",
    "class Neuron:\n",
    "  def __init__(self, weights=0):\n",
    "    np.seterr(all='ignore')\n",
    "    self.input = 0\n",
    "    self.value = 0\n",
    "    self.output = 0\n",
    "    self.threshold = 0\n",
    "    self.fired = False\n",
    "    self.potential = 0\n",
    "    self.weights = np.array([self.init_weight(weights) for x in range(weights)], dtype='float64')\n",
    "\n",
    "  def fire(self):\n",
    "    self.fired = True if (self.value > self.threshold) else False\n",
    "    if self.fired:\n",
    "      self.value = 0\n",
    "    return 1 if self.fired else 0\n",
    "\n",
    "  def init_weight(self, num_weights):\n",
    "    return np.random.uniform(-(2 / num_weights), (2 / num_weights))\n",
    "\n",
    "  def solve(self):\n",
    "    raise NotImplementedError(\"A neuron model needs a solve method\")\n"
   ]
  },
  {
   "cell_type": "code",
   "execution_count": 2,
   "metadata": {},
   "outputs": [],
   "source": [
    "\n",
    "\"\"\"\n",
    "Leaky Integrate and Fire neuron model\n",
    "\"\"\"\n",
    "class LeakyIntegrateAndFireNeuron(Neuron):\n",
    "  def __init__(self, weights=0):\n",
    "    super(self.__class__, self).__init__(weights)\n",
    "    self.degradation = 0.9\n",
    "    self.refractoryTime = 0\n",
    "\n",
    "  def calculate_potential (self, inputs):\n",
    "    self.potential = (self.potential + np.sum(np.multiply(inputs, self.weights))) * self.degradation\n",
    "    return self.potential\n",
    "\n",
    "  def solve(self, inputs):\n",
    "    self.inputs = inputs\n",
    "    if self.refractoryTime > 0:\n",
    "      self.refractoryTime = self.refractoryTime - 1\n",
    "    else:\n",
    "      self.value = self.calculate_potential(inputs)\n",
    "    self.fire()\n",
    "    if self.fired: self.refractoryTime = 2\n",
    "    return self.fired"
   ]
  },
  {
   "cell_type": "code",
   "execution_count": 3,
   "metadata": {},
   "outputs": [],
   "source": [
    "class LearningMethod:\n",
    "  def update(self):\n",
    "    raise NotImplementedError(\"A learning method needs an update method\")"
   ]
  },
  {
   "cell_type": "code",
   "execution_count": 4,
   "metadata": {},
   "outputs": [],
   "source": [
    "\"\"\"\n",
    "Basic STDP Learning Method\n",
    "\"\"\"\n",
    "class STDP(LearningMethod):\n",
    "  def __init__(self):\n",
    "    self.adjustment = 0.1\n",
    "    self.time = 0\n",
    "    self.is_setup = False\n",
    "\n",
    "  def update_weights(self, neuron, adjustment):\n",
    "    adjustments = np.multiply(neuron.inputs, adjustment)\n",
    "    signed_adjustments = np.multiply(adjustments, np.sign(neuron.weights))\n",
    "    adjusted = np.add(neuron.weights, signed_adjustments)\n",
    "    return adjusted\n",
    "\n",
    "  def update_trace(self, neuron):\n",
    "    trace = [ 0 if x == 0 else neuron.trace[int(i)] + 1 for (i, x) in enumerate(1 - neuron.inputs)]\n",
    "    return trace\n",
    "\n",
    "  def setup(self, neuron):\n",
    "    neuron.trace = np.zeros(len(neuron.inputs))\n",
    "\n",
    "  def update(self, layers):\n",
    "    for layer in layers:\n",
    "      for neuron in layer:\n",
    "        if (not self.is_setup):\n",
    "          self.setup(neuron)\n",
    "        correlated_adjustment = self.adjustment if neuron.refractoryTime is 0 else -self.adjustment\n",
    "        neuron.weights = self.update_weights(neuron, correlated_adjustment)\n",
    "        neuron.trace = self.update_trace(neuron)\n",
    "    if (not self.is_setup): self.is_setup = True\n",
    "    self.time = self.time + 1"
   ]
  },
  {
   "cell_type": "code",
   "execution_count": 5,
   "metadata": {},
   "outputs": [],
   "source": [
    "import numpy as np\n",
    "\n",
    "\"\"\"\n",
    "Spiking Neural Network model\n",
    "\"\"\"\n",
    "class SNN:\n",
    "  def __init__(self, num_input, hidden_layers, num_output, neuron_class, learning_method):\n",
    "    self.layers = []\n",
    "    self.neuronClass = neuron_class\n",
    "    self.learning = learning_method\n",
    "    self.setup(num_input, hidden_layers, num_output)\n",
    "\n",
    "  def setup(self, num_input, hidden_layers, num_output):\n",
    "    self.setup_layer(num_input)\n",
    "    self.setup_hidden(hidden_layers)\n",
    "    self.setup_layer(num_output)\n",
    "\n",
    "  def setup_layer(self, num_neurons):\n",
    "    layer_neurons = np.array([])\n",
    "    for x in range(num_neurons):\n",
    "      input_weights = len(self.layers[-1]) if len(self.layers) > 0 else num_neurons\n",
    "      layer_neurons = np.append(layer_neurons, self.neuronClass(input_weights))\n",
    "    self.layers.append(layer_neurons)\n",
    "\n",
    "  def setup_hidden(self, hidden_layers):\n",
    "    if type(hidden_layers) is int:\n",
    "      self.setup_layer(hidden_layers)\n",
    "    else:\n",
    "      for layer in hidden_layers:\n",
    "        self.setup_layer(layer)\n",
    "\n",
    "  def adjust_weights(self):\n",
    "    self.learning.update(self.layers)\n",
    "\n",
    "  def solve(self, input):\n",
    "    previous_layer = np.array(input)\n",
    "    for (i, layer) in enumerate(self.layers):\n",
    "      new_previous_layer = np.array([])\n",
    "      for neuron in layer:\n",
    "        new_previous_layer = np.append(new_previous_layer, neuron.solve(previous_layer))\n",
    "      previous_layer = new_previous_layer\n",
    "    self.adjust_weights()\n",
    "    return previous_layer\n"
   ]
  },
  {
   "cell_type": "code",
   "execution_count": null,
   "metadata": {},
   "outputs": [],
   "source": []
  },
  {
   "cell_type": "code",
   "execution_count": null,
   "metadata": {},
   "outputs": [],
   "source": []
  },
  {
   "cell_type": "code",
   "execution_count": null,
   "metadata": {},
   "outputs": [],
   "source": []
  },
  {
   "cell_type": "code",
   "execution_count": null,
   "metadata": {},
   "outputs": [],
   "source": []
  },
  {
   "cell_type": "code",
   "execution_count": null,
   "metadata": {},
   "outputs": [],
   "source": []
  },
  {
   "cell_type": "code",
   "execution_count": null,
   "metadata": {},
   "outputs": [],
   "source": []
  },
  {
   "cell_type": "code",
   "execution_count": 8,
   "metadata": {},
   "outputs": [
    {
     "name": "stdout",
     "output_type": "stream",
     "text": [
      "0\n",
      "[-0.83719321  0.37317334]\n"
     ]
    },
    {
     "data": {
      "image/png": "[encoded data removed]",
      "text/plain": [
       "<Figure size 432x288 with 1 Axes>"
      ]
     },
     "metadata": {
      "needs_background": "light"
     },
     "output_type": "display_data"
    },
    {
     "data": {
      "image/png": "[encoded data removed]",
      "text/plain": [
       "<Figure size 432x288 with 1 Axes>"
      ]
     },
     "metadata": {
      "needs_background": "light"
     },
     "output_type": "display_data"
    }
   ],
   "source": [
    "N = 2\n",
    "\n",
    "l=LeakyIntegrateAndFireNeuron(N)\n",
    "\n",
    "print(l.potential)\n",
    "print(l.weights)\n",
    "\n",
    "a=[]\n",
    "s=[]\n",
    "for i in range(10):\n",
    "    s.append(l.solve([0.02]*N))\n",
    "    a.append(l.potential)\n",
    "import matplotlib.pyplot as plt\n",
    "\n",
    "plt.plot(a)\n",
    "plt.show()\n",
    "\n",
    "plt.plot(s)\n",
    "plt.show()"
   ]
  },
  {
   "cell_type": "code",
   "execution_count": 9,
   "metadata": {},
   "outputs": [
    {
     "name": "stdout",
     "output_type": "stream",
     "text": [
      "[-0.52650114  0.24652997 -0.18722644]\n",
      "Final [0. 0. 0. 0. 0. 0.]\n",
      "[-0.62650114  0.34652997 -0.28722644]\n",
      "Final [0. 0. 0. 0. 0. 0.]\n",
      "[-0.72650114  0.44652997 -0.38722644]\n",
      "Final [0. 0. 0. 0. 0. 0.]\n",
      "[-0.82650114  0.54652997 -0.48722644]\n"
     ]
    }
   ],
   "source": [
    "\n",
    "net = SNN(3, [2, 4], 6, LeakyIntegrateAndFireNeuron, STDP())\n",
    "print(net.layers[0][0].weights)\n",
    "print('Final', net.solve([ 1, 1, 1]))\n",
    "print(net.layers[0][0].weights)\n",
    "print('Final', net.solve([ 1, 1, 1]))\n",
    "print(net.layers[0][0].weights)\n",
    "print('Final', net.solve([ 1, 1, 1]))\n",
    "print(net.layers[0][0].weights)"
   ]
  },
  {
   "cell_type": "code",
   "execution_count": null,
   "metadata": {},
   "outputs": [],
   "source": []
  }
 ],
 "metadata": {
  "kernelspec": {
   "display_name": "Python 3",
   "language": "python",
   "name": "python3"
  },
  "language_info": {
   "codemirror_mode": {
    "name": "ipython",
    "version": 3
   },
   "file_extension": ".py",
   "mimetype": "text/x-python",
   "name": "python",
   "nbconvert_exporter": "python",
   "pygments_lexer": "ipython3",
   "version": "3.6.6"
  }
 },
 "nbformat": 4,
 "nbformat_minor": 2
}
